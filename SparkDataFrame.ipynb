{
 "cells": [
  {
   "cell_type": "code",
   "execution_count": 6,
   "id": "6e7900e3-5921-4936-b751-6aa63b9231eb",
   "metadata": {},
   "outputs": [],
   "source": [
    "from pyspark.sql import SparkSession\n",
    "\n",
    "spark = SparkSession.builder.getOrCreate()"
   ]
  },
  {
   "cell_type": "code",
   "execution_count": 7,
   "id": "9b49677f-18ef-4d8b-9ea3-c133697c50da",
   "metadata": {},
   "outputs": [
    {
     "name": "stdout",
     "output_type": "stream",
     "text": [
      "+----------+---------+----------+---------+\n",
      "|      date|new_cases|new_deaths|new_tests|\n",
      "+----------+---------+----------+---------+\n",
      "|2019-12-31|      0.0|       0.0|      NaN|\n",
      "|2020-01-01|      0.0|       0.0|      NaN|\n",
      "|2020-01-02|      0.0|       0.0|      NaN|\n",
      "|2020-01-03|      0.0|       0.0|      NaN|\n",
      "|2020-01-04|      0.0|       0.0|      NaN|\n",
      "|2020-01-05|      0.0|       0.0|      NaN|\n",
      "|2020-01-06|      0.0|       0.0|      NaN|\n",
      "|2020-01-07|      0.0|       0.0|      NaN|\n",
      "|2020-01-08|      0.0|       0.0|      NaN|\n",
      "|2020-01-09|      0.0|       0.0|      NaN|\n",
      "+----------+---------+----------+---------+\n",
      "only showing top 10 rows\n",
      "\n"
     ]
    }
   ],
   "source": [
    "import pandas as pd\n",
    "pdf = pd.read_csv(\"italy-covid-daywise.csv\")\n",
    "\n",
    "df = spark.createDataFrame(pdf)\n",
    "df.show(10)\n"
   ]
  },
  {
   "cell_type": "code",
   "execution_count": 8,
   "id": "1273881b",
   "metadata": {},
   "outputs": [
    {
     "data": {
      "text/plain": [
       "Row(date='2019-12-31', new_cases=0.0, new_deaths=0.0, new_tests=nan)"
      ]
     },
     "execution_count": 8,
     "metadata": {},
     "output_type": "execute_result"
    }
   ],
   "source": [
    "df.head()"
   ]
  },
  {
   "cell_type": "code",
   "execution_count": 9,
   "id": "af6faec9",
   "metadata": {},
   "outputs": [
    {
     "name": "stdout",
     "output_type": "stream",
     "text": [
      "Requirement already satisfied: pyspark in ./.venv/lib/python3.11/site-packages (3.5.0)\n",
      "Requirement already satisfied: py4j==0.10.9.7 in ./.venv/lib/python3.11/site-packages (from pyspark) (0.10.9.7)\n",
      "Note: you may need to restart the kernel to use updated packages.\n"
     ]
    }
   ],
   "source": [
    "%pip install pyspark"
   ]
  }
 ],
 "metadata": {
  "kernelspec": {
   "display_name": "Python 3 (ipykernel)",
   "language": "python",
   "name": "python3"
  },
  "language_info": {
   "codemirror_mode": {
    "name": "ipython",
    "version": 3
   },
   "file_extension": ".py",
   "mimetype": "text/x-python",
   "name": "python",
   "nbconvert_exporter": "python",
   "pygments_lexer": "ipython3",
   "version": "3.11.0"
  }
 },
 "nbformat": 4,
 "nbformat_minor": 5
}
